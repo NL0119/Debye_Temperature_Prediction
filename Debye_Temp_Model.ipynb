{
 "cells": [
  {
   "cell_type": "code",
   "execution_count": null,
   "metadata": {},
   "outputs": [],
   "source": [
    "\"\"\"\n",
    "Revised file was created on Sun Dec 30 15:22 2024\n",
    "@author: Nakyung Lee, University of Houston\n",
    "\n",
    "Original file was created on Fri May 8 22:00:41 2020\n",
    "@author: Ya Zhuo, University of Houston\n",
    "\"\"\""
   ]
  },
  {
   "cell_type": "markdown",
   "metadata": {},
   "source": [
    "### Debye Temp Descriptor"
   ]
  },
  {
   "cell_type": "code",
   "execution_count": 45,
   "metadata": {},
   "outputs": [],
   "source": [
    "import warnings\n",
    "import numpy as np\n",
    "import pandas as pd\n",
    "from pymatgen.core.composition import Composition\n",
    "from pymatgen.analysis.structure_analyzer import SpacegroupAnalyzer\n",
    "from tqdm import tqdm\n",
    "from mp_api.client import MPRester"
   ]
  },
  {
   "cell_type": "code",
   "execution_count": 46,
   "metadata": {},
   "outputs": [],
   "source": [
    "def _custom_formatwarning(msg, *args, **kwargs):\n",
    "    return f\"{msg}\\n\"\n",
    "warnings.formatwarning = _custom_formatwarning\n",
    "\n",
    "polar_pointgroups = [\"1\",\"2\",\"m\",\"mm2\",\"3\",\"3m\",\"4\",\"4m\",\"6\",\"6mm\"]\n",
    "SG_data = pd.read_excel(r\"SG to xtal class.xlsx\") #Check the file name\n",
    "\n",
    "def get_struc_dict(structure):\n",
    "    struc_dict = {}\n",
    "    sga = SpacegroupAnalyzer(structure)\n",
    "    conv_struc = sga.get_conventional_standard_structure()\n",
    "    space_group_number = sga.get_space_group_number()\n",
    "    struc_dict[\"Space Group\"] = space_group_number\n",
    "    \n",
    "    matching_row = SG_data[SG_data[\"Space Group\"] == space_group_number]\n",
    "    \n",
    "    if not matching_row.empty:\n",
    "        struc_dict[\"Crystal System\"] = matching_row[\"Crystal System\"].values[0]\n",
    "        struc_dict[\"Laue\"] = matching_row[\"Laue\"].values[0]\n",
    "        struc_dict[\"Crystal Class\"] = matching_row[\"Crystal Class\"].values[0]\n",
    "    else:\n",
    "        struc_dict[\"Crystal System\"] = \"Not found\"\n",
    "        struc_dict[\"Laue\"] = \"Not found\"\n",
    "        struc_dict[\"Crystal Class\"] = \"Not found\"\n",
    "\n",
    "    struc_dict[\"inversion center\"] = sga.is_laue()\n",
    "    struc_dict[\"inversion center\"] = int(struc_dict[\"inversion center\"])\n",
    "    struc_dict[\"polar axis\"] = sga.get_point_group_symbol() in polar_pointgroups\n",
    "    struc_dict[\"polar axis\"] = int(struc_dict[\"polar axis\"])\n",
    "    struc_dict[\"Reduced Volume\"] = (conv_struc.volume / conv_struc.composition.get_reduced_composition_and_factor()[1])\n",
    "    struc_dict[\"density\"] = conv_struc.density\n",
    "    struc_dict[\"avg anisotropy\"] = ((conv_struc.lattice.a / conv_struc.lattice.b)+(conv_struc.lattice.b / conv_struc.lattice.c)+(conv_struc.lattice.c / conv_struc.lattice.a))/3\n",
    "    struc_dict[\"V per Atoms\"] = (conv_struc.volume / conv_struc.composition.num_atoms)\n",
    "\n",
    "    return struc_dict\n"
   ]
  },
  {
   "cell_type": "code",
   "execution_count": 47,
   "metadata": {},
   "outputs": [
    {
     "data": {
      "application/vnd.jupyter.widget-view+json": {
       "model_id": "574bcc9328d642ea9ccbb53a633a022c",
       "version_major": 2,
       "version_minor": 0
      },
      "text/plain": [
       "Retrieving MaterialsDoc documents:   0%|          | 0/17 [00:00<?, ?it/s]"
      ]
     },
     "metadata": {},
     "output_type": "display_data"
    },
    {
     "name": "stderr",
     "output_type": "stream",
     "text": [
      "100%|██████████| 17/17 [00:00<00:00, 154.25it/s]\n"
     ]
    }
   ],
   "source": [
    "DT_df = pd.read_excel(r'Tester.xlsx')\n",
    "DT_formulae = list(DT_df['Composition'])\n",
    "DT_formulae = [Composition(formula).get_integer_formula_and_factor()[0] for formula in DT_df['Composition']]\n",
    "\n",
    "materials_fields = [\n",
    "    \"material_id\",\n",
    "    \"formula_pretty\",\n",
    "    \"structure\",\n",
    "    \"symmetry\",\n",
    "    \"volume\",\n",
    "    \"density\",\n",
    "]\n",
    "\n",
    "with MPRester(\"Your Materials Project API\") as mpr:\n",
    "    docs = mpr.materials.search(formula=DT_formulae, fields=materials_fields)\n",
    "\n",
    "amalgamated_dicts = []\n",
    "for doc in tqdm(docs):\n",
    "    try:\n",
    "        amalgamated_dicts += [\n",
    "            {\n",
    "                \"Composition\": str(doc.formula_pretty),\n",
    "                \"Database IDs\": doc.material_id,\n",
    "                **get_struc_dict(doc.structure)\n",
    "            }\n",
    "        ]\n",
    "\n",
    "    except IndexError:\n",
    "        print(f\"skipping composiiton {doc.formula_pretty} due to IndexError\")\n",
    "        continue\n",
    "\n",
    "df = pd.DataFrame(amalgamated_dicts) #crystal structural feature set is created\n",
    "df = df.round(3)"
   ]
  },
  {
   "cell_type": "code",
   "execution_count": 48,
   "metadata": {},
   "outputs": [],
   "source": [
    "class Vectorize_Formula:\n",
    "    \n",
    "    def __init__(self):\n",
    "        elem_dict = pd.read_excel(r'elements_Debye.xlsx') # check the file name\n",
    "        self.element_df = pd.DataFrame(elem_dict)\n",
    "        self.element_df.set_index('Symbol',inplace=True)\n",
    "        self.column_names = []\n",
    "        for column_name in list(self.element_df.columns.values):\n",
    "            for string in ['avg','diff','max','min']:\n",
    "                self.column_names.append(f'{string}_{column_name}')\n",
    "\n",
    "    def get_features(self, formula):\n",
    "        try:\n",
    "            fractional_composition = Composition(formula).fractional_composition.as_dict()\n",
    "            avg_feature = np.zeros(len(self.element_df.columns))\n",
    "\n",
    "            for key in fractional_composition:\n",
    "                if key not in self.element_df.index:\n",
    "                    print('The element:', key, 'from formula', formula,'is not currently supported in our database')\n",
    "                    return np.full(len(self.element_df.columns)*4, np.nan)\n",
    "                avg_feature += self.element_df.loc[key].values * fractional_composition[key]\n",
    "\n",
    "            elements_in_formula = list(fractional_composition.keys())\n",
    "            element_stats = self.element_df.loc[elements_in_formula]\n",
    "            diff_feature = element_stats.max() - element_stats.min()\n",
    "            max_feature = element_stats.max()\n",
    "            min_feature = element_stats.min()\n",
    "\n",
    "            features = []\n",
    "            for i in range(len(self.element_df.columns)):\n",
    "                features.extend([avg_feature[i], diff_feature.iloc[i], max_feature.iloc[i], min_feature.iloc[i]])\n",
    "            return features\n",
    "        except Exception as e:\n",
    "            print(f\"An error occurred while processing the formula {formula}: {e}\")\n",
    "            return np.full(len(self.element_df.columns) * 4, np.nan)\n",
    "\n",
    "gf=Vectorize_Formula()\n",
    "\n",
    "compositional_features=[]\n",
    "\n",
    "for formula in df[\"Composition\"]:\n",
    "    compositional_features.append(gf.get_features(formula))\n",
    "\n",
    "X = pd.DataFrame(compositional_features, columns = gf.column_names)\n",
    "X = X.round(3)\n",
    "composition_df=pd.concat([df, X], axis=1) # compositional features are added.\n"
   ]
  },
  {
   "cell_type": "code",
   "execution_count": 50,
   "metadata": {},
   "outputs": [],
   "source": [
    "class Total_E_Calculation:\n",
    "    \n",
    "    def __init__(self):\n",
    "        columns_to_read = ['Symbol', 'number of valence electrons', 'gilmor number of valence electron', 'outer shell electrons']\n",
    "        elem_dict = pd.read_excel(r'elements_Debye.xlsx', usecols=columns_to_read)\n",
    "        \n",
    "        self.element_df = pd.DataFrame(elem_dict)\n",
    "        self.element_df.set_index('Symbol', inplace=True)\n",
    "        \n",
    "        self.column_names = []\n",
    "        for column_name in self.element_df.columns:\n",
    "            self.column_names.append(f'total_{column_name}')\n",
    "\n",
    "    def get_electron_densities(self, formula):        \n",
    "        try:\n",
    "            composition = Composition(formula)\n",
    "            total_features = {col: 0 for col in self.column_names}\n",
    "            \n",
    "            for element, amount in composition.items():\n",
    "                if element.symbol in self.element_df.index:\n",
    "                    for col in self.element_df.columns:\n",
    "                        total_features[f'total_{col}'] += self.element_df.loc[element.symbol, col] * amount\n",
    "                else:\n",
    "                    print(f\"Warning: Element {element.symbol} not found in the database.\")\n",
    "            \n",
    "            return total_features\n",
    "        \n",
    "        except Exception as e:\n",
    "            print(f\"Error processing formula {formula}: {str(e)}\")\n",
    "            return None\n",
    "        \n",
    "        \n",
    "ef=Total_E_Calculation() # total number of each type of electrons to calculate four different electron densities\n",
    "\n",
    "total_e=[]\n",
    "\n",
    "for formula in composition_df[\"Composition\"]:\n",
    "    total_e.append(ef.get_electron_densities(formula))\n",
    "\n",
    "Y = pd.DataFrame(total_e, columns = ef.column_names)\n",
    "\n",
    "composition_df[\"Valence e per Reduced volume\"]=Y[\"total_number of valence electrons\"]/composition_df[\"Reduced Volume\"]\n",
    "composition_df[\"Valence e per V per Atom\"]=Y[\"total_number of valence electrons\"]/composition_df[\"V per Atoms\"]\n",
    "composition_df[\"Gilmor e per V per Atom\"]=Y[\"total_gilmor number of valence electron\"]/composition_df[\"V per Atoms\"]\n",
    "composition_df[\"Outer Shell e per V per Atom\"]=Y[\"total_outer shell electrons\"]/composition_df[\"V per Atoms\"]\n",
    "\n",
    "composition_df.round(3)\n",
    "composition_df.to_excel('Tester_Feature_Set.xlsx', index=False)"
   ]
  },
  {
   "cell_type": "markdown",
   "metadata": {},
   "source": [
    "### Debye Temperature Model with XGBoost"
   ]
  },
  {
   "cell_type": "code",
   "execution_count": 51,
   "metadata": {},
   "outputs": [],
   "source": [
    "import numpy as np\n",
    "import pandas as pd\n",
    "import xgboost as xgb\n",
    "from xgboost import XGBRegressor\n",
    "from sklearn.model_selection import cross_val_score, KFold\n",
    "from sklearn.metrics import r2_score"
   ]
  },
  {
   "cell_type": "code",
   "execution_count": 52,
   "metadata": {},
   "outputs": [
    {
     "name": "stdout",
     "output_type": "stream",
     "text": [
      "\n",
      "Cross-validation results for each fold:\n",
      "Fold 1: R2 = 0.9141\n",
      "Fold 2: R2 = 0.9114\n",
      "Fold 3: R2 = 0.9232\n",
      "Fold 4: R2 = 0.9001\n",
      "Fold 5: R2 = 0.9182\n",
      "Fold 6: R2 = 0.9327\n",
      "Fold 7: R2 = 0.9318\n",
      "Fold 8: R2 = 0.9248\n",
      "Fold 9: R2 = 0.9217\n",
      "Fold 10: R2 = 0.9228\n",
      "\n",
      "Mean R2: 0.9201\n",
      "Standard Deviation of R2: 0.0092\n"
     ]
    }
   ],
   "source": [
    "DebyeDB=pd.read_excel('Debye_Temp_Training_Set.xlsx')\n",
    "array = DebyeDB.values\n",
    "X = array[:,2:153]\n",
    "Y = array[:,1]\n",
    "Compd = array[:,0]\n",
    "\n",
    "best_model = XGBRegressor(tree_method='hist', device='cuda',  n_estimators=250, learning_rate=0.07,\n",
    "                          max_depth=9, min_child_weight=7, subsample=0.7, base_score=0.6,\n",
    "                          colsample_bytree=0.9, colsample_bylevel=0.8, colsample_bynode=1,\n",
    "                          reg_alpha=0, reg_lambda=0.9\n",
    "                          )\n",
    "kf = KFold(n_splits=10, shuffle=True, random_state=42)\n",
    "cv_results = cross_val_score(best_model, X, Y, cv=kf, scoring='r2')\n",
    "print(\"\\nCross-validation results for each fold:\")\n",
    "for i, score in enumerate(cv_results, 1):\n",
    "    print(f\"Fold {i}: R2 = {score:.4f}\")\n",
    "print(f\"\\nMean R2: {np.mean(cv_results):.4f}\")\n",
    "print(f\"Standard Deviation of R2: {np.std(cv_results):.4f}\")"
   ]
  },
  {
   "cell_type": "code",
   "execution_count": 53,
   "metadata": {},
   "outputs": [],
   "source": [
    "best_model.fit(X,Y)\n",
    "prediction = pd.read_excel(r'Tester_Feature_Set.xlsx')\n",
    "a = prediction.values\n",
    "b = a[:,2:152]\n",
    "result = best_model.predict(b)\n",
    "composition=prediction['Composition']\n",
    "result=pd.DataFrame(result)\n",
    "predicted=np.column_stack((composition,result))\n",
    "predicted=pd.DataFrame(predicted)\n",
    "predicted.round(3)\n",
    "predicted.to_excel('Tester_Predicted_Debye.xlsx', index=False, header=(\"Composition\",\"Predicted Debye\"))"
   ]
  }
 ],
 "metadata": {
  "kernelspec": {
   "display_name": "machinelearning",
   "language": "python",
   "name": "python3"
  },
  "language_info": {
   "codemirror_mode": {
    "name": "ipython",
    "version": 3
   },
   "file_extension": ".py",
   "mimetype": "text/x-python",
   "name": "python",
   "nbconvert_exporter": "python",
   "pygments_lexer": "ipython3",
   "version": "3.11.0"
  }
 },
 "nbformat": 4,
 "nbformat_minor": 2
}
